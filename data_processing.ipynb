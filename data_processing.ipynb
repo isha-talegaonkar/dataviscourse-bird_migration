{
  "nbformat": 4,
  "nbformat_minor": 0,
  "metadata": {
    "colab": {
      "provenance": []
    },
    "kernelspec": {
      "name": "python3",
      "display_name": "Python 3"
    },
    "language_info": {
      "name": "python"
    }
  },
  "cells": [
    {
      "cell_type": "code",
      "execution_count": 1,
      "metadata": {
        "id": "WUIounm4E9qq"
      },
      "outputs": [],
      "source": [
        "import pandas as pd\n",
        "import numpy as numpy\n",
        "from google.colab import drive\n",
        "import datetime as dt\n",
        "import os\n",
        "import glob\n",
        "from datetime import datetime"
      ]
    },
    {
      "cell_type": "code",
      "source": [
        "drive.mount(\"/content/gdrive\")"
      ],
      "metadata": {
        "colab": {
          "base_uri": "https://localhost:8080/"
        },
        "id": "yh-NJ2P6MfP-",
        "outputId": "3b31be7f-db6a-4144-cf7c-763cd222c353"
      },
      "execution_count": 2,
      "outputs": [
        {
          "output_type": "stream",
          "name": "stdout",
          "text": [
            "Mounted at /content/gdrive\n"
          ]
        }
      ]
    },
    {
      "cell_type": "code",
      "source": [
        "filenames = ['/content/gdrive/My Drive/project/data_5_years/ebd_US_goleag_201501_202101_relOct-2022.csv', '/content/gdrive/My Drive/project/data_5_years/ebd_US_rebwoo_201501_202101_relOct-2022.csv', '/content/gdrive/My Drive/project/data_5_years/ebd_US_reshaw5_201501_202101_relOct-2022.csv']\n",
        "\n",
        "for f in filenames:\n",
        "  data = pd.read_csv(f)\n",
        "  #changing observation counts\n",
        "  data['OBSERVATION COUNT'] = data['OBSERVATION COUNT'].fillna(0)\n",
        "  data['OBSERVATION COUNT'] = data['OBSERVATION COUNT'].replace('X', 0)\n",
        "  data['OBSERVATION DATE'] = pd.to_datetime(data['OBSERVATION DATE'])\n",
        "  data['MONTH'] = data['OBSERVATION DATE'].dt.month\n",
        "  data['OBSERVATION COUNT'] = data['OBSERVATION COUNT'].astype(str).astype(int)\n",
        "  data = data.drop(['GLOBAL UNIQUE IDENTIFIER', 'PROTOCOL TYPE', 'PROTOCOL CODE', 'PROJECT CODE', 'DURATION MINUTES', 'LAST EDITED DATE', 'TAXONOMIC ORDER', 'APPROVED',\n",
        "       'REVIEWED', 'REASON', 'TRIP COMMENTS', 'SPECIES COMMENTS', 'IBA CODE', 'BCR CODE', 'USFWS CODE', 'ATLAS BLOCK', 'TIME OBSERVATIONS STARTED', 'OBSERVER ID', \n",
        "       'SAMPLING EVENT IDENTIFIER', 'NUMBER OBSERVERS', 'ALL SPECIES REPORTED', 'GROUP IDENTIFIER', 'HAS MEDIA', 'EFFORT DISTANCE KM', 'EFFORT AREA HA', 'BEHAVIOR CODE'], axis=1)\n",
        "  data['date'] = pd.to_datetime(data['OBSERVATION DATE']) - pd.to_timedelta(7, unit='d')\n",
        "\n",
        "  weekly_data = pd.DataFrame(data.groupby([pd.Grouper(key='date', freq='W')])['OBSERVATION COUNT'].sum())\n",
        "  weekly_data = weekly_data.reset_index()\n",
        "\n",
        "  name = f.split('/')[-1].split('_')[2]\n",
        "  weekly_data.to_csv('/content/gdrive/My Drive/project/data_5_years/filtered_data/'+name+'_weekly.csv')\n",
        "  data.to_csv('/content/gdrive/My Drive/project/data_5_years/filtered_data/'+name+'_filtered.csv')\n"
      ],
      "metadata": {
        "id": "FLzLBdEtVOCv",
        "colab": {
          "base_uri": "https://localhost:8080/"
        },
        "outputId": "04e3701a-be31-433f-b62d-2d29623a8b0d"
      },
      "execution_count": 7,
      "outputs": [
        {
          "output_type": "stream",
          "name": "stderr",
          "text": [
            "/usr/local/lib/python3.7/dist-packages/IPython/core/interactiveshell.py:3326: DtypeWarning: Columns (24) have mixed types.Specify dtype option on import or set low_memory=False.\n",
            "  exec(code_obj, self.user_global_ns, self.user_ns)\n",
            "/usr/local/lib/python3.7/dist-packages/IPython/core/interactiveshell.py:3326: DtypeWarning: Columns (21,23,24) have mixed types.Specify dtype option on import or set low_memory=False.\n",
            "  exec(code_obj, self.user_global_ns, self.user_ns)\n"
          ]
        }
      ]
    },
    {
      "cell_type": "code",
      "source": [
        "fname = '/content/gdrive/My Drive/project/data_5_years/ebd_US_goleag_201501_202101_relOct-2022.csv'\n",
        "name = fname.split('/')[-1].split('_')[2]\n",
        "print(name)"
      ],
      "metadata": {
        "id": "j53aBPyYXqPR",
        "outputId": "dadc357d-32b5-4881-a967-21cf72dbca60",
        "colab": {
          "base_uri": "https://localhost:8080/"
        }
      },
      "execution_count": 6,
      "outputs": [
        {
          "output_type": "stream",
          "name": "stdout",
          "text": [
            "goleag\n"
          ]
        }
      ]
    },
    {
      "cell_type": "code",
      "source": [],
      "metadata": {
        "id": "wLFZx7-sXr_q"
      },
      "execution_count": null,
      "outputs": []
    }
  ]
}