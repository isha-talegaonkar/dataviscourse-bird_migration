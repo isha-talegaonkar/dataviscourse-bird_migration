{
  "nbformat": 4,
  "nbformat_minor": 0,
  "metadata": {
    "colab": {
      "provenance": []
    },
    "kernelspec": {
      "name": "python3",
      "display_name": "Python 3"
    },
    "language_info": {
      "name": "python"
    }
  },
  "cells": [
    {
      "cell_type": "code",
      "execution_count": null,
      "metadata": {
        "id": "Kl0tObrQwIp0"
      },
      "outputs": [],
      "source": [
        "import pandas as pd\n",
        "import numpy as numpy\n",
        "from google.colab import drive\n",
        "import datetime as dt"
      ]
    },
    {
      "cell_type": "code",
      "source": [
        "drive.mount(\"/content/gdrive\")\n",
        "data=pd.read_csv(\"/content/gdrive/My Drive/ebd_US_goleag_202001_202112_relSep-2022.csv\")"
      ],
      "metadata": {
        "id": "4yH1tySSwKOE",
        "colab": {
          "base_uri": "https://localhost:8080/"
        },
        "outputId": "e8ba22c3-7dfb-4474-c877-932458badcdb"
      },
      "execution_count": null,
      "outputs": [
        {
          "output_type": "stream",
          "name": "stdout",
          "text": [
            "Drive already mounted at /content/gdrive; to attempt to forcibly remount, call drive.mount(\"/content/gdrive\", force_remount=True).\n"
          ]
        },
        {
          "output_type": "stream",
          "name": "stderr",
          "text": [
            "/usr/local/lib/python3.7/dist-packages/IPython/core/interactiveshell.py:3326: DtypeWarning: Columns (24) have mixed types.Specify dtype option on import or set low_memory=False.\n",
            "  exec(code_obj, self.user_global_ns, self.user_ns)\n"
          ]
        }
      ]
    },
    {
      "cell_type": "code",
      "source": [
        "data.head()"
      ],
      "metadata": {
        "id": "VD-sHpivwMmS",
        "colab": {
          "base_uri": "https://localhost:8080/",
          "height": 560
        },
        "outputId": "e2b93145-ab84-4850-c041-d972cd455fb0"
      },
      "execution_count": null,
      "outputs": [
        {
          "output_type": "execute_result",
          "data": {
            "text/plain": [
              "                          GLOBAL UNIQUE IDENTIFIER LAST EDITED DATE  \\\n",
              "0  URN:CornellLabOfOrnithology:EBIRD:OBS1023810755          52:23.8   \n",
              "1  URN:CornellLabOfOrnithology:EBIRD:OBS1234490916          47:51.5   \n",
              "2   URN:CornellLabOfOrnithology:EBIRD:OBS920966778    5/13/20 12:41   \n",
              "3   URN:CornellLabOfOrnithology:EBIRD:OBS903553572    4/26/20 15:36   \n",
              "4   URN:CornellLabOfOrnithology:EBIRD:OBS904612626    4/27/20 20:42   \n",
              "\n",
              "   TAXONOMIC ORDER CATEGORY  TAXON CONCEPT ID   COMMON NAME  \\\n",
              "0             7662  species  avibase-5F8E7CA8  Golden Eagle   \n",
              "1             7662  species  avibase-5F8E7CA8  Golden Eagle   \n",
              "2             7662  species  avibase-5F8E7CA8  Golden Eagle   \n",
              "3             7662  species  avibase-5F8E7CA8  Golden Eagle   \n",
              "4             7662  species  avibase-5F8E7CA8  Golden Eagle   \n",
              "\n",
              "     SCIENTIFIC NAME  SUBSPECIES COMMON NAME  SUBSPECIES SCIENTIFIC NAME  \\\n",
              "0  Aquila chrysaetos                     NaN                         NaN   \n",
              "1  Aquila chrysaetos                     NaN                         NaN   \n",
              "2  Aquila chrysaetos                     NaN                         NaN   \n",
              "3  Aquila chrysaetos                     NaN                         NaN   \n",
              "4  Aquila chrysaetos                     NaN                         NaN   \n",
              "\n",
              "   EXOTIC CODE  ... EFFORT AREA HA NUMBER OBSERVERS ALL SPECIES REPORTED  \\\n",
              "0          NaN  ...            NaN              1.0                    1   \n",
              "1          NaN  ...            NaN              1.0                    1   \n",
              "2          NaN  ...            NaN              1.0                    0   \n",
              "3          NaN  ...            NaN              2.0                    1   \n",
              "4          NaN  ...            NaN              1.0                    1   \n",
              "\n",
              "  GROUP IDENTIFIER HAS MEDIA APPROVED REVIEWED REASON  \\\n",
              "0              NaN         1        1        1    NaN   \n",
              "1              NaN         0        1        0    NaN   \n",
              "2              NaN         0        1        0    NaN   \n",
              "3              NaN         0        1        0    NaN   \n",
              "4              NaN         0        1        0    NaN   \n",
              "\n",
              "                      TRIP COMMENTS  \\\n",
              "0  Pretty good day out on the road.   \n",
              "1                               NaN   \n",
              "2                               NaN   \n",
              "3                               NaN   \n",
              "4                               NaN   \n",
              "\n",
              "                                    SPECIES COMMENTS  \n",
              "0  Juvenile with white wing patches and tail band...  \n",
              "1                                                NaN  \n",
              "2                                                NaN  \n",
              "3                                                NaN  \n",
              "4             Seen cruising the mountain high above.  \n",
              "\n",
              "[5 rows x 49 columns]"
            ],
            "text/html": [
              "\n",
              "  <div id=\"df-23741237-bdec-4ef9-999d-dac03f7c0829\">\n",
              "    <div class=\"colab-df-container\">\n",
              "      <div>\n",
              "<style scoped>\n",
              "    .dataframe tbody tr th:only-of-type {\n",
              "        vertical-align: middle;\n",
              "    }\n",
              "\n",
              "    .dataframe tbody tr th {\n",
              "        vertical-align: top;\n",
              "    }\n",
              "\n",
              "    .dataframe thead th {\n",
              "        text-align: right;\n",
              "    }\n",
              "</style>\n",
              "<table border=\"1\" class=\"dataframe\">\n",
              "  <thead>\n",
              "    <tr style=\"text-align: right;\">\n",
              "      <th></th>\n",
              "      <th>GLOBAL UNIQUE IDENTIFIER</th>\n",
              "      <th>LAST EDITED DATE</th>\n",
              "      <th>TAXONOMIC ORDER</th>\n",
              "      <th>CATEGORY</th>\n",
              "      <th>TAXON CONCEPT ID</th>\n",
              "      <th>COMMON NAME</th>\n",
              "      <th>SCIENTIFIC NAME</th>\n",
              "      <th>SUBSPECIES COMMON NAME</th>\n",
              "      <th>SUBSPECIES SCIENTIFIC NAME</th>\n",
              "      <th>EXOTIC CODE</th>\n",
              "      <th>...</th>\n",
              "      <th>EFFORT AREA HA</th>\n",
              "      <th>NUMBER OBSERVERS</th>\n",
              "      <th>ALL SPECIES REPORTED</th>\n",
              "      <th>GROUP IDENTIFIER</th>\n",
              "      <th>HAS MEDIA</th>\n",
              "      <th>APPROVED</th>\n",
              "      <th>REVIEWED</th>\n",
              "      <th>REASON</th>\n",
              "      <th>TRIP COMMENTS</th>\n",
              "      <th>SPECIES COMMENTS</th>\n",
              "    </tr>\n",
              "  </thead>\n",
              "  <tbody>\n",
              "    <tr>\n",
              "      <th>0</th>\n",
              "      <td>URN:CornellLabOfOrnithology:EBIRD:OBS1023810755</td>\n",
              "      <td>52:23.8</td>\n",
              "      <td>7662</td>\n",
              "      <td>species</td>\n",
              "      <td>avibase-5F8E7CA8</td>\n",
              "      <td>Golden Eagle</td>\n",
              "      <td>Aquila chrysaetos</td>\n",
              "      <td>NaN</td>\n",
              "      <td>NaN</td>\n",
              "      <td>NaN</td>\n",
              "      <td>...</td>\n",
              "      <td>NaN</td>\n",
              "      <td>1.0</td>\n",
              "      <td>1</td>\n",
              "      <td>NaN</td>\n",
              "      <td>1</td>\n",
              "      <td>1</td>\n",
              "      <td>1</td>\n",
              "      <td>NaN</td>\n",
              "      <td>Pretty good day out on the road.</td>\n",
              "      <td>Juvenile with white wing patches and tail band...</td>\n",
              "    </tr>\n",
              "    <tr>\n",
              "      <th>1</th>\n",
              "      <td>URN:CornellLabOfOrnithology:EBIRD:OBS1234490916</td>\n",
              "      <td>47:51.5</td>\n",
              "      <td>7662</td>\n",
              "      <td>species</td>\n",
              "      <td>avibase-5F8E7CA8</td>\n",
              "      <td>Golden Eagle</td>\n",
              "      <td>Aquila chrysaetos</td>\n",
              "      <td>NaN</td>\n",
              "      <td>NaN</td>\n",
              "      <td>NaN</td>\n",
              "      <td>...</td>\n",
              "      <td>NaN</td>\n",
              "      <td>1.0</td>\n",
              "      <td>1</td>\n",
              "      <td>NaN</td>\n",
              "      <td>0</td>\n",
              "      <td>1</td>\n",
              "      <td>0</td>\n",
              "      <td>NaN</td>\n",
              "      <td>NaN</td>\n",
              "      <td>NaN</td>\n",
              "    </tr>\n",
              "    <tr>\n",
              "      <th>2</th>\n",
              "      <td>URN:CornellLabOfOrnithology:EBIRD:OBS920966778</td>\n",
              "      <td>5/13/20 12:41</td>\n",
              "      <td>7662</td>\n",
              "      <td>species</td>\n",
              "      <td>avibase-5F8E7CA8</td>\n",
              "      <td>Golden Eagle</td>\n",
              "      <td>Aquila chrysaetos</td>\n",
              "      <td>NaN</td>\n",
              "      <td>NaN</td>\n",
              "      <td>NaN</td>\n",
              "      <td>...</td>\n",
              "      <td>NaN</td>\n",
              "      <td>1.0</td>\n",
              "      <td>0</td>\n",
              "      <td>NaN</td>\n",
              "      <td>0</td>\n",
              "      <td>1</td>\n",
              "      <td>0</td>\n",
              "      <td>NaN</td>\n",
              "      <td>NaN</td>\n",
              "      <td>NaN</td>\n",
              "    </tr>\n",
              "    <tr>\n",
              "      <th>3</th>\n",
              "      <td>URN:CornellLabOfOrnithology:EBIRD:OBS903553572</td>\n",
              "      <td>4/26/20 15:36</td>\n",
              "      <td>7662</td>\n",
              "      <td>species</td>\n",
              "      <td>avibase-5F8E7CA8</td>\n",
              "      <td>Golden Eagle</td>\n",
              "      <td>Aquila chrysaetos</td>\n",
              "      <td>NaN</td>\n",
              "      <td>NaN</td>\n",
              "      <td>NaN</td>\n",
              "      <td>...</td>\n",
              "      <td>NaN</td>\n",
              "      <td>2.0</td>\n",
              "      <td>1</td>\n",
              "      <td>NaN</td>\n",
              "      <td>0</td>\n",
              "      <td>1</td>\n",
              "      <td>0</td>\n",
              "      <td>NaN</td>\n",
              "      <td>NaN</td>\n",
              "      <td>NaN</td>\n",
              "    </tr>\n",
              "    <tr>\n",
              "      <th>4</th>\n",
              "      <td>URN:CornellLabOfOrnithology:EBIRD:OBS904612626</td>\n",
              "      <td>4/27/20 20:42</td>\n",
              "      <td>7662</td>\n",
              "      <td>species</td>\n",
              "      <td>avibase-5F8E7CA8</td>\n",
              "      <td>Golden Eagle</td>\n",
              "      <td>Aquila chrysaetos</td>\n",
              "      <td>NaN</td>\n",
              "      <td>NaN</td>\n",
              "      <td>NaN</td>\n",
              "      <td>...</td>\n",
              "      <td>NaN</td>\n",
              "      <td>1.0</td>\n",
              "      <td>1</td>\n",
              "      <td>NaN</td>\n",
              "      <td>0</td>\n",
              "      <td>1</td>\n",
              "      <td>0</td>\n",
              "      <td>NaN</td>\n",
              "      <td>NaN</td>\n",
              "      <td>Seen cruising the mountain high above.</td>\n",
              "    </tr>\n",
              "  </tbody>\n",
              "</table>\n",
              "<p>5 rows × 49 columns</p>\n",
              "</div>\n",
              "      <button class=\"colab-df-convert\" onclick=\"convertToInteractive('df-23741237-bdec-4ef9-999d-dac03f7c0829')\"\n",
              "              title=\"Convert this dataframe to an interactive table.\"\n",
              "              style=\"display:none;\">\n",
              "        \n",
              "  <svg xmlns=\"http://www.w3.org/2000/svg\" height=\"24px\"viewBox=\"0 0 24 24\"\n",
              "       width=\"24px\">\n",
              "    <path d=\"M0 0h24v24H0V0z\" fill=\"none\"/>\n",
              "    <path d=\"M18.56 5.44l.94 2.06.94-2.06 2.06-.94-2.06-.94-.94-2.06-.94 2.06-2.06.94zm-11 1L8.5 8.5l.94-2.06 2.06-.94-2.06-.94L8.5 2.5l-.94 2.06-2.06.94zm10 10l.94 2.06.94-2.06 2.06-.94-2.06-.94-.94-2.06-.94 2.06-2.06.94z\"/><path d=\"M17.41 7.96l-1.37-1.37c-.4-.4-.92-.59-1.43-.59-.52 0-1.04.2-1.43.59L10.3 9.45l-7.72 7.72c-.78.78-.78 2.05 0 2.83L4 21.41c.39.39.9.59 1.41.59.51 0 1.02-.2 1.41-.59l7.78-7.78 2.81-2.81c.8-.78.8-2.07 0-2.86zM5.41 20L4 18.59l7.72-7.72 1.47 1.35L5.41 20z\"/>\n",
              "  </svg>\n",
              "      </button>\n",
              "      \n",
              "  <style>\n",
              "    .colab-df-container {\n",
              "      display:flex;\n",
              "      flex-wrap:wrap;\n",
              "      gap: 12px;\n",
              "    }\n",
              "\n",
              "    .colab-df-convert {\n",
              "      background-color: #E8F0FE;\n",
              "      border: none;\n",
              "      border-radius: 50%;\n",
              "      cursor: pointer;\n",
              "      display: none;\n",
              "      fill: #1967D2;\n",
              "      height: 32px;\n",
              "      padding: 0 0 0 0;\n",
              "      width: 32px;\n",
              "    }\n",
              "\n",
              "    .colab-df-convert:hover {\n",
              "      background-color: #E2EBFA;\n",
              "      box-shadow: 0px 1px 2px rgba(60, 64, 67, 0.3), 0px 1px 3px 1px rgba(60, 64, 67, 0.15);\n",
              "      fill: #174EA6;\n",
              "    }\n",
              "\n",
              "    [theme=dark] .colab-df-convert {\n",
              "      background-color: #3B4455;\n",
              "      fill: #D2E3FC;\n",
              "    }\n",
              "\n",
              "    [theme=dark] .colab-df-convert:hover {\n",
              "      background-color: #434B5C;\n",
              "      box-shadow: 0px 1px 3px 1px rgba(0, 0, 0, 0.15);\n",
              "      filter: drop-shadow(0px 1px 2px rgba(0, 0, 0, 0.3));\n",
              "      fill: #FFFFFF;\n",
              "    }\n",
              "  </style>\n",
              "\n",
              "      <script>\n",
              "        const buttonEl =\n",
              "          document.querySelector('#df-23741237-bdec-4ef9-999d-dac03f7c0829 button.colab-df-convert');\n",
              "        buttonEl.style.display =\n",
              "          google.colab.kernel.accessAllowed ? 'block' : 'none';\n",
              "\n",
              "        async function convertToInteractive(key) {\n",
              "          const element = document.querySelector('#df-23741237-bdec-4ef9-999d-dac03f7c0829');\n",
              "          const dataTable =\n",
              "            await google.colab.kernel.invokeFunction('convertToInteractive',\n",
              "                                                     [key], {});\n",
              "          if (!dataTable) return;\n",
              "\n",
              "          const docLinkHtml = 'Like what you see? Visit the ' +\n",
              "            '<a target=\"_blank\" href=https://colab.research.google.com/notebooks/data_table.ipynb>data table notebook</a>'\n",
              "            + ' to learn more about interactive tables.';\n",
              "          element.innerHTML = '';\n",
              "          dataTable['output_type'] = 'display_data';\n",
              "          await google.colab.output.renderOutput(dataTable, element);\n",
              "          const docLink = document.createElement('div');\n",
              "          docLink.innerHTML = docLinkHtml;\n",
              "          element.appendChild(docLink);\n",
              "        }\n",
              "      </script>\n",
              "    </div>\n",
              "  </div>\n",
              "  "
            ]
          },
          "metadata": {},
          "execution_count": 3
        }
      ]
    },
    {
      "cell_type": "code",
      "source": [
        "data['OBSERVATION COUNT'].value_counts()"
      ],
      "metadata": {
        "id": "K22ZMoSlyZMR",
        "colab": {
          "base_uri": "https://localhost:8080/"
        },
        "outputId": "d817f689-26db-491a-976f-93cc7e041669"
      },
      "execution_count": null,
      "outputs": [
        {
          "output_type": "execute_result",
          "data": {
            "text/plain": [
              "1      46280\n",
              "2      11029\n",
              "3       1912\n",
              "4        650\n",
              "5        308\n",
              "X        291\n",
              "6        182\n",
              "7        100\n",
              "8         84\n",
              "10        46\n",
              "9         44\n",
              "12        28\n",
              "13        28\n",
              "11        25\n",
              "15        18\n",
              "14        18\n",
              "20        17\n",
              "16        15\n",
              "17        15\n",
              "24        14\n",
              "21        13\n",
              "19        12\n",
              "22        11\n",
              "18         9\n",
              "23         9\n",
              "30         8\n",
              "25         8\n",
              "42         7\n",
              "31         6\n",
              "26         5\n",
              "49         5\n",
              "38         4\n",
              "35         4\n",
              "43         3\n",
              "27         3\n",
              "41         3\n",
              "34         3\n",
              "78         3\n",
              "51         3\n",
              "59         3\n",
              "40         3\n",
              "105        3\n",
              "37         2\n",
              "55         2\n",
              "33         2\n",
              "68         2\n",
              "53         2\n",
              "45         2\n",
              "56         2\n",
              "32         2\n",
              "63         1\n",
              "39         1\n",
              "120        1\n",
              "60         1\n",
              "50         1\n",
              "29         1\n",
              "28         1\n",
              "Name: OBSERVATION COUNT, dtype: int64"
            ]
          },
          "metadata": {},
          "execution_count": 4
        }
      ]
    },
    {
      "cell_type": "code",
      "source": [
        "data['OBSERVATION COUNT'].isna().sum()"
      ],
      "metadata": {
        "id": "YTdp8VB60eRO",
        "colab": {
          "base_uri": "https://localhost:8080/"
        },
        "outputId": "1eed54bf-f451-4e45-834a-b8e8b10a5063"
      },
      "execution_count": null,
      "outputs": [
        {
          "output_type": "execute_result",
          "data": {
            "text/plain": [
              "0"
            ]
          },
          "metadata": {},
          "execution_count": 5
        }
      ]
    },
    {
      "cell_type": "code",
      "source": [
        "data['OBSERVATION COUNT'] = data['OBSERVATION COUNT'].fillna(0)"
      ],
      "metadata": {
        "id": "da0yn5_Kwf7N"
      },
      "execution_count": null,
      "outputs": []
    },
    {
      "cell_type": "code",
      "source": [
        "data['OBSERVATION COUNT'].value_counts()"
      ],
      "metadata": {
        "id": "OHSE3aRywvx8",
        "colab": {
          "base_uri": "https://localhost:8080/"
        },
        "outputId": "338dd963-5e35-488e-96f7-e916211b7060"
      },
      "execution_count": null,
      "outputs": [
        {
          "output_type": "execute_result",
          "data": {
            "text/plain": [
              "1      46280\n",
              "2      11029\n",
              "3       1912\n",
              "4        650\n",
              "5        308\n",
              "X        291\n",
              "6        182\n",
              "7        100\n",
              "8         84\n",
              "10        46\n",
              "9         44\n",
              "12        28\n",
              "13        28\n",
              "11        25\n",
              "15        18\n",
              "14        18\n",
              "20        17\n",
              "16        15\n",
              "17        15\n",
              "24        14\n",
              "21        13\n",
              "19        12\n",
              "22        11\n",
              "18         9\n",
              "23         9\n",
              "30         8\n",
              "25         8\n",
              "42         7\n",
              "31         6\n",
              "26         5\n",
              "49         5\n",
              "38         4\n",
              "35         4\n",
              "43         3\n",
              "27         3\n",
              "41         3\n",
              "34         3\n",
              "78         3\n",
              "51         3\n",
              "59         3\n",
              "40         3\n",
              "105        3\n",
              "37         2\n",
              "55         2\n",
              "33         2\n",
              "68         2\n",
              "53         2\n",
              "45         2\n",
              "56         2\n",
              "32         2\n",
              "63         1\n",
              "39         1\n",
              "120        1\n",
              "60         1\n",
              "50         1\n",
              "29         1\n",
              "28         1\n",
              "Name: OBSERVATION COUNT, dtype: int64"
            ]
          },
          "metadata": {},
          "execution_count": 7
        }
      ]
    },
    {
      "cell_type": "code",
      "source": [
        "data['OBSERVATION COUNT'] = data['OBSERVATION COUNT'].replace('X', 0)"
      ],
      "metadata": {
        "id": "O4XjWWicwxqU"
      },
      "execution_count": null,
      "outputs": []
    },
    {
      "cell_type": "code",
      "source": [
        "data['OBSERVATION COUNT'].value_counts()"
      ],
      "metadata": {
        "id": "gkIEAVUKzDQq",
        "colab": {
          "base_uri": "https://localhost:8080/"
        },
        "outputId": "eb240128-6992-4bb9-9732-7863ae927559"
      },
      "execution_count": null,
      "outputs": [
        {
          "output_type": "execute_result",
          "data": {
            "text/plain": [
              "1      46280\n",
              "2      11029\n",
              "3       1912\n",
              "4        650\n",
              "5        308\n",
              "0        291\n",
              "6        182\n",
              "7        100\n",
              "8         84\n",
              "10        46\n",
              "9         44\n",
              "12        28\n",
              "13        28\n",
              "11        25\n",
              "15        18\n",
              "14        18\n",
              "20        17\n",
              "16        15\n",
              "17        15\n",
              "24        14\n",
              "21        13\n",
              "19        12\n",
              "22        11\n",
              "18         9\n",
              "23         9\n",
              "30         8\n",
              "25         8\n",
              "42         7\n",
              "31         6\n",
              "26         5\n",
              "49         5\n",
              "38         4\n",
              "35         4\n",
              "43         3\n",
              "27         3\n",
              "41         3\n",
              "34         3\n",
              "78         3\n",
              "51         3\n",
              "59         3\n",
              "40         3\n",
              "105        3\n",
              "37         2\n",
              "55         2\n",
              "33         2\n",
              "68         2\n",
              "53         2\n",
              "45         2\n",
              "56         2\n",
              "32         2\n",
              "63         1\n",
              "39         1\n",
              "120        1\n",
              "60         1\n",
              "50         1\n",
              "29         1\n",
              "28         1\n",
              "Name: OBSERVATION COUNT, dtype: int64"
            ]
          },
          "metadata": {},
          "execution_count": 9
        }
      ]
    },
    {
      "cell_type": "code",
      "source": [
        "data['OBSERVATION DATE'].isna().sum()"
      ],
      "metadata": {
        "id": "C5XlYIhz1PdN",
        "colab": {
          "base_uri": "https://localhost:8080/"
        },
        "outputId": "14793c07-f2f7-4479-dc59-d9c2657a4cbb"
      },
      "execution_count": null,
      "outputs": [
        {
          "output_type": "execute_result",
          "data": {
            "text/plain": [
              "0"
            ]
          },
          "metadata": {},
          "execution_count": 10
        }
      ]
    },
    {
      "cell_type": "code",
      "source": [
        "data['OBSERVATION DATE'].value_counts()"
      ],
      "metadata": {
        "id": "Gyrkh2l71sge",
        "colab": {
          "base_uri": "https://localhost:8080/"
        },
        "outputId": "b54c2792-6b28-4aac-e82e-4b593930644a"
      },
      "execution_count": null,
      "outputs": [
        {
          "output_type": "execute_result",
          "data": {
            "text/plain": [
              "5/9/20     281\n",
              "5/8/21     279\n",
              "2/15/20    250\n",
              "1/23/21    247\n",
              "1/1/20     243\n",
              "          ... \n",
              "7/24/20     31\n",
              "7/7/20      30\n",
              "8/17/20     30\n",
              "8/5/20      29\n",
              "9/10/20     23\n",
              "Name: OBSERVATION DATE, Length: 731, dtype: int64"
            ]
          },
          "metadata": {},
          "execution_count": 11
        }
      ]
    },
    {
      "cell_type": "code",
      "source": [
        "pd.unique(data['OBSERVATION DATE'])"
      ],
      "metadata": {
        "id": "LNBomwsW1xkS",
        "colab": {
          "base_uri": "https://localhost:8080/"
        },
        "outputId": "722fef4b-e791-4214-b1c9-4f16e3f8f548"
      },
      "execution_count": null,
      "outputs": [
        {
          "output_type": "execute_result",
          "data": {
            "text/plain": [
              "array(['12/5/20', '9/9/21', '4/27/20', '4/25/20', '5/28/20', '5/9/20',\n",
              "       '5/15/20', '5/27/20', '5/16/20', '6/30/20', '6/6/20', '6/12/20',\n",
              "       '6/8/20', '6/13/20', '7/13/20', '7/21/20', '7/6/20', '8/19/20',\n",
              "       '8/28/20', '8/10/20', '8/5/20', '8/9/20', '8/2/20', '9/15/20',\n",
              "       '9/13/20', '9/5/20', '9/27/20', '9/11/20', '12/7/20', '12/17/20',\n",
              "       '12/14/20', '3/28/21', '3/9/21', '4/11/21', '4/17/21', '4/16/21',\n",
              "       '5/5/21', '5/26/21', '5/31/21', '5/9/21', '6/9/21', '6/5/21',\n",
              "       '6/4/21', '6/30/21', '6/19/21', '6/26/21', '6/24/21', '6/27/21',\n",
              "       '7/27/21', '7/4/21', '7/17/21', '8/20/21', '8/27/21', '8/28/21',\n",
              "       '9/12/21', '9/15/21', '9/7/21', '9/29/21', '10/5/21', '11/25/21',\n",
              "       '8/30/21', '5/8/21', '1/4/20', '3/5/20', '4/30/20', '5/14/20',\n",
              "       '5/6/20', '5/10/20', '5/23/20', '5/30/20', '6/28/20', '7/11/20',\n",
              "       '7/1/20', '7/4/20', '8/29/20', '8/23/20', '8/21/20', '8/22/20',\n",
              "       '8/18/20', '9/6/20', '9/7/20', '9/28/20', '9/26/20', '9/20/20',\n",
              "       '10/10/20', '4/10/21', '5/23/21', '5/18/21', '5/25/21', '5/19/21',\n",
              "       '5/16/21', '5/29/21', '6/7/21', '6/6/21', '6/10/21', '6/8/21',\n",
              "       '6/16/21', '6/11/21', '6/2/21', '6/17/21', '6/23/21', '6/13/21',\n",
              "       '6/20/21', '6/15/21', '6/14/21', '6/3/21', '6/12/21', '6/25/21',\n",
              "       '6/22/21', '6/28/21', '7/29/21', '7/20/21', '7/19/21', '7/22/21',\n",
              "       '7/31/21', '7/3/21', '7/18/21', '7/16/21', '7/5/21', '7/28/21',\n",
              "       '7/10/21', '7/1/21', '7/9/21', '7/2/21', '7/13/21', '7/25/21',\n",
              "       '8/26/21', '8/25/21', '8/29/21', '8/10/21', '8/9/21', '8/12/21',\n",
              "       '8/31/21', '8/8/21', '8/24/21', '8/7/21', '8/18/21', '8/17/21',\n",
              "       '8/21/21', '8/13/21', '8/14/21', '8/16/21', '9/1/21', '9/3/21',\n",
              "       '9/10/21', '9/25/21', '9/19/21', '10/1/21', '4/22/20', '5/2/20',\n",
              "       '5/11/20', '8/12/20', '5/28/21', '6/18/21', '7/7/21', '9/26/21',\n",
              "       '9/27/21', '4/10/20', '4/19/20', '5/17/20', '7/3/20', '8/20/20',\n",
              "       '10/13/20', '12/25/20', '8/22/21', '10/16/21', '2/1/20', '3/31/20',\n",
              "       '5/1/20', '6/7/20', '6/3/20', '6/26/20', '7/9/20', '10/7/20',\n",
              "       '4/13/21', '4/24/21', '5/30/21', '6/29/21', '8/5/21', '8/1/21',\n",
              "       '8/15/21', '8/6/21', '8/3/21', '9/8/21', '9/5/21', '2/28/20',\n",
              "       '3/18/20', '3/8/20', '3/14/20', '4/15/20', '4/6/20', '4/26/20',\n",
              "       '9/9/20', '9/3/20', '9/19/20', '9/1/20', '10/21/20', '11/3/20',\n",
              "       '12/28/20', '12/30/20', '3/2/21', '3/15/21', '4/9/21', '5/13/21',\n",
              "       '5/22/21', '11/18/21', '11/5/21', '7/23/21', '3/28/20', '4/18/20',\n",
              "       '4/28/20', '4/17/20', '4/7/20', '4/21/20', '4/5/20', '5/26/20',\n",
              "       '5/19/20', '5/21/20', '5/5/20', '5/7/20', '6/29/20', '6/27/20',\n",
              "       '7/18/20', '7/23/20', '7/16/20', '8/8/20', '10/14/20', '10/4/20',\n",
              "       '10/17/20', '10/12/20', '2/27/21', '3/25/21', '3/30/21', '3/6/21',\n",
              "       '4/18/21', '4/21/21', '4/23/21', '4/5/21', '4/14/21', '4/12/21',\n",
              "       '4/15/21', '4/25/21', '4/6/21', '4/19/21', '4/29/21', '4/30/21',\n",
              "       '4/22/21', '5/20/21', '7/15/21', '7/14/21', '8/2/21', '10/10/21',\n",
              "       '10/23/21', '10/3/21', '11/7/21', '11/8/21', '1/17/20', '2/21/20',\n",
              "       '3/10/20', '10/24/20', '2/28/21', '5/12/21', '6/1/21', '6/21/21',\n",
              "       '8/4/21', '9/18/21', '4/23/20', '5/25/20', '5/8/20', '6/9/20',\n",
              "       '6/5/20', '6/10/20', '6/18/20', '6/11/20', '7/12/20', '7/30/20',\n",
              "       '4/7/21', '5/17/21', '7/12/21', '7/21/21', '9/22/21', '9/2/21',\n",
              "       '7/6/21', '7/8/21', '10/6/21', '4/29/20', '5/3/20', '5/24/20',\n",
              "       '6/16/20', '3/17/20', '4/11/20', '5/22/20', '6/24/20', '6/15/20',\n",
              "       '7/2/20', '7/15/20', '8/25/20', '9/8/20', '10/11/20', '11/4/20',\n",
              "       '3/17/21', '3/16/21', '3/26/21', '3/22/21', '3/31/21', '3/29/21',\n",
              "       '3/24/21', '3/20/21', '3/27/21', '3/23/21', '3/19/21', '4/1/21',\n",
              "       '4/3/21', '4/4/21', '7/30/21', '9/4/21', '11/23/20', '8/24/20',\n",
              "       '9/24/21', '12/4/21', '12/12/21', '12/27/21', '1/28/20', '2/19/20',\n",
              "       '1/4/21', '2/7/21', '1/19/20', '3/7/20', '1/29/21', '2/15/20',\n",
              "       '1/1/20', '8/11/20', '8/27/20', '10/20/20', '11/17/20', '11/29/20',\n",
              "       '12/1/20', '10/24/21', '10/26/21', '10/28/21', '10/11/21',\n",
              "       '11/28/21', '11/30/21', '11/26/21', '12/10/21', '12/23/21',\n",
              "       '1/5/20', '1/24/20', '1/22/20', '1/8/20', '1/30/20', '1/7/20',\n",
              "       '1/31/20', '2/8/20', '2/7/20', '2/10/20', '2/27/20', '2/4/20',\n",
              "       '2/9/20', '2/13/20', '2/3/20', '2/23/20', '3/2/20', '3/6/20',\n",
              "       '3/16/20', '3/1/20', '3/15/20', '3/4/20', '3/21/20', '4/16/20',\n",
              "       '4/4/20', '5/4/20', '7/28/20', '7/22/20', '7/7/20', '8/30/20',\n",
              "       '8/16/20', '9/24/20', '9/14/20', '9/22/20', '9/30/20', '9/4/20',\n",
              "       '9/25/20', '9/10/20', '10/15/20', '10/18/20', '10/6/20',\n",
              "       '10/31/20', '10/2/20', '10/23/20', '10/19/20', '10/30/20',\n",
              "       '10/5/20', '10/1/20', '11/11/20', '11/6/20', '11/28/20',\n",
              "       '11/20/20', '11/19/20', '11/1/20', '11/15/20', '11/24/20',\n",
              "       '11/30/20', '11/26/20', '11/13/20', '11/25/20', '11/9/20',\n",
              "       '11/5/20', '11/16/20', '11/12/20', '11/7/20', '11/10/20',\n",
              "       '12/2/20', '12/21/20', '12/8/20', '12/6/20', '12/19/20',\n",
              "       '12/11/20', '12/26/20', '12/12/20', '12/31/20', '12/27/20',\n",
              "       '12/3/20', '12/23/20', '1/18/21', '1/23/21', '1/8/21', '1/13/21',\n",
              "       '1/1/21', '1/15/21', '1/14/21', '1/2/21', '1/17/21', '1/11/21',\n",
              "       '1/16/21', '1/3/21', '1/31/21', '1/30/21', '1/26/21', '2/11/21',\n",
              "       '2/19/21', '2/14/21', '2/10/21', '2/18/21', '2/5/21', '2/22/21',\n",
              "       '2/12/21', '2/20/21', '2/2/21', '2/3/21', '2/15/21', '2/9/21',\n",
              "       '3/8/21', '3/11/21', '3/18/21', '3/1/21', '3/7/21', '3/14/21',\n",
              "       '4/27/21', '4/8/21', '4/26/21', '4/28/21', '5/27/21', '5/7/21',\n",
              "       '5/4/21', '5/11/21', '7/11/21', '7/24/21', '8/23/21', '9/6/21',\n",
              "       '9/21/21', '9/17/21', '9/16/21', '9/11/21', '9/28/21', '10/27/21',\n",
              "       '10/8/21', '10/31/21', '10/17/21', '10/30/21', '10/19/21',\n",
              "       '10/9/21', '10/2/21', '11/10/21', '11/3/21', '11/2/21', '11/6/21',\n",
              "       '11/13/21', '11/11/21', '11/1/21', '11/24/21', '11/23/21',\n",
              "       '11/15/21', '12/17/21', '12/14/21', '12/25/21', '12/15/21',\n",
              "       '12/16/21', '12/30/21', '12/13/21', '1/18/20', '1/27/20',\n",
              "       '1/14/20', '2/5/20', '2/6/20', '3/9/20', '3/12/20', '3/13/20',\n",
              "       '4/13/20', '4/3/20', '5/20/20', '5/29/20', '7/25/20', '7/31/20',\n",
              "       '9/18/20', '9/12/20', '9/16/20', '10/3/20', '10/29/20', '10/26/20',\n",
              "       '10/27/20', '10/16/20', '11/27/20', '11/2/20', '12/4/20',\n",
              "       '12/20/20', '1/10/21', '1/6/21', '1/12/21', '2/6/21', '3/21/21',\n",
              "       '4/2/21', '5/2/21', '5/15/21', '5/6/21', '9/13/21', '10/22/21',\n",
              "       '10/20/21', '10/25/21', '10/15/21', '10/7/21', '11/21/21',\n",
              "       '11/12/21', '11/14/21', '11/9/21', '11/16/21', '11/4/21',\n",
              "       '1/29/20', '1/25/20', '1/9/20', '3/30/20', '8/1/20', '8/15/20',\n",
              "       '1/9/21', '1/20/21', '10/21/21', '6/17/20', '7/17/20', '7/19/20',\n",
              "       '12/2/21', '12/18/21', '2/2/20', '3/23/20', '4/14/20', '10/9/20',\n",
              "       '1/21/21', '2/1/21', '5/14/21', '11/20/21', '12/29/21', '12/26/21',\n",
              "       '1/12/20', '2/17/20', '3/11/20', '5/31/20', '6/1/20', '2/21/21',\n",
              "       '3/10/21', '12/22/21', '1/21/20', '1/13/20', '4/24/20', '6/19/20',\n",
              "       '8/13/20', '8/7/20', '10/22/20', '5/1/21', '1/11/20', '1/2/20',\n",
              "       '1/6/20', '1/3/20', '1/20/20', '1/23/20', '1/26/20', '2/29/20',\n",
              "       '2/24/20', '2/12/20', '2/16/20', '2/25/20', '2/18/20', '2/20/20',\n",
              "       '3/25/20', '3/27/20', '3/29/20', '3/24/20', '3/22/20', '3/26/20',\n",
              "       '3/20/20', '4/8/20', '4/12/20', '4/20/20', '4/1/20', '4/2/20',\n",
              "       '4/9/20', '5/12/20', '5/18/20', '5/13/20', '6/4/20', '6/2/20',\n",
              "       '6/25/20', '6/14/20', '6/22/20', '7/20/20', '7/14/20', '7/26/20',\n",
              "       '8/14/20', '8/31/20', '8/26/20', '11/22/20', '12/13/20',\n",
              "       '12/22/20', '12/29/20', '1/22/21', '2/23/21', '2/25/21', '2/26/21',\n",
              "       '2/8/21', '3/12/21', '5/10/21', '7/26/21', '8/11/21', '10/4/21',\n",
              "       '10/13/21', '10/14/21', '12/8/21', '12/19/21', '12/28/21',\n",
              "       '12/21/21', '12/5/21', '12/6/21', '12/1/21', '12/3/21', '1/15/20',\n",
              "       '1/10/20', '2/14/20', '3/19/20', '3/3/20', '11/14/20', '12/15/20',\n",
              "       '12/16/20', '12/18/20', '1/7/21', '1/5/21', '2/16/21', '3/13/21',\n",
              "       '3/4/21', '9/14/21', '9/20/21', '10/18/21', '10/12/21', '11/22/21',\n",
              "       '12/9/21', '12/20/21', '6/23/20', '7/8/20', '5/21/21', '11/29/21',\n",
              "       '2/22/20', '2/11/20', '2/26/20', '6/21/20', '6/20/20', '7/10/20',\n",
              "       '7/29/20', '7/27/20', '8/17/20', '9/2/20', '9/23/20', '9/17/20',\n",
              "       '10/28/20', '10/25/20', '11/21/20', '11/18/20', '11/8/20',\n",
              "       '12/9/20', '12/24/20', '12/10/20', '1/25/21', '1/24/21', '2/17/21',\n",
              "       '2/13/21', '2/24/21', '2/4/21', '3/5/21', '3/3/21', '4/20/21',\n",
              "       '5/3/21', '8/19/21', '9/23/21', '10/29/21', '11/27/21', '11/19/21',\n",
              "       '12/24/21', '12/7/21', '12/31/21', '12/11/21', '8/6/20', '1/28/21',\n",
              "       '5/24/21', '9/30/21', '11/17/21', '7/24/20', '1/27/21', '1/19/21',\n",
              "       '1/16/20', '9/29/20', '8/3/20', '8/4/20', '10/8/20', '7/5/20',\n",
              "       '9/21/20'], dtype=object)"
            ]
          },
          "metadata": {},
          "execution_count": 12
        }
      ]
    },
    {
      "cell_type": "code",
      "source": [
        "from datetime import datetime\n",
        "data['OBSERVATION DATE'] = pd.to_datetime(data['OBSERVATION DATE'])"
      ],
      "metadata": {
        "id": "5nghxu9h2Mth"
      },
      "execution_count": null,
      "outputs": []
    },
    {
      "cell_type": "code",
      "source": [
        "data['MONTH'] = data['OBSERVATION DATE'].dt.month"
      ],
      "metadata": {
        "id": "EZ-mMmNG-r_U"
      },
      "execution_count": null,
      "outputs": []
    },
    {
      "cell_type": "code",
      "source": [
        "data.dtypes"
      ],
      "metadata": {
        "id": "H535Rh5eAHts",
        "colab": {
          "base_uri": "https://localhost:8080/"
        },
        "outputId": "33a89d36-47ba-4ab8-9e05-db64a4fe188b"
      },
      "execution_count": null,
      "outputs": [
        {
          "output_type": "execute_result",
          "data": {
            "text/plain": [
              "GLOBAL UNIQUE IDENTIFIER              object\n",
              "LAST EDITED DATE                      object\n",
              "TAXONOMIC ORDER                        int64\n",
              "CATEGORY                              object\n",
              "TAXON CONCEPT ID                      object\n",
              "COMMON NAME                           object\n",
              "SCIENTIFIC NAME                       object\n",
              "SUBSPECIES COMMON NAME               float64\n",
              "SUBSPECIES SCIENTIFIC NAME           float64\n",
              "EXOTIC CODE                          float64\n",
              "OBSERVATION COUNT                     object\n",
              "BREEDING CODE                         object\n",
              "BREEDING CATEGORY                     object\n",
              "BEHAVIOR CODE                         object\n",
              "AGE/SEX                               object\n",
              "COUNTRY                               object\n",
              "COUNTRY CODE                          object\n",
              "STATE                                 object\n",
              "STATE CODE                            object\n",
              "COUNTY                                object\n",
              "COUNTY CODE                           object\n",
              "IBA CODE                              object\n",
              "BCR CODE                             float64\n",
              "USFWS CODE                            object\n",
              "ATLAS BLOCK                           object\n",
              "LOCALITY                              object\n",
              "LOCALITY ID                           object\n",
              "LOCALITY TYPE                         object\n",
              "LATITUDE                             float64\n",
              "LONGITUDE                            float64\n",
              "OBSERVATION DATE              datetime64[ns]\n",
              "TIME OBSERVATIONS STARTED             object\n",
              "OBSERVER ID                           object\n",
              "SAMPLING EVENT IDENTIFIER             object\n",
              "PROTOCOL TYPE                         object\n",
              "PROTOCOL CODE                         object\n",
              "PROJECT CODE                          object\n",
              "DURATION MINUTES                     float64\n",
              "EFFORT DISTANCE KM                   float64\n",
              "EFFORT AREA HA                       float64\n",
              "NUMBER OBSERVERS                     float64\n",
              "ALL SPECIES REPORTED                   int64\n",
              "GROUP IDENTIFIER                      object\n",
              "HAS MEDIA                              int64\n",
              "APPROVED                               int64\n",
              "REVIEWED                               int64\n",
              "REASON                               float64\n",
              "TRIP COMMENTS                         object\n",
              "SPECIES COMMENTS                      object\n",
              "MONTH                                  int64\n",
              "dtype: object"
            ]
          },
          "metadata": {},
          "execution_count": 15
        }
      ]
    },
    {
      "cell_type": "code",
      "source": [
        "data['OBSERVATION COUNT'] = data['OBSERVATION COUNT'].astype(str).astype(int)"
      ],
      "metadata": {
        "id": "4t8GmxHMAgyo"
      },
      "execution_count": null,
      "outputs": []
    },
    {
      "cell_type": "code",
      "source": [
        "import matplotlib.pyplot as plt\n",
        "fig, ax = plt.subplots(1, figsize=(12,6))\n",
        "plt.plot(data['MONTH'], data['OBSERVATION COUNT'])"
      ],
      "metadata": {
        "id": "XpZyuH1U_cJ_",
        "colab": {
          "base_uri": "https://localhost:8080/",
          "height": 392
        },
        "outputId": "4364413e-086c-4fc3-faf8-72c7ee176b68"
      },
      "execution_count": null,
      "outputs": [
        {
          "output_type": "execute_result",
          "data": {
            "text/plain": [
              "[<matplotlib.lines.Line2D at 0x7f3634075c10>]"
            ]
          },
          "metadata": {},
          "execution_count": 17
        },
        {
          "output_type": "display_data",
          "data": {
            "text/plain": [
              "<Figure size 864x432 with 1 Axes>"
            ],
            "image/png": "[encoded data removed]"
          },
          "metadata": {
            "needs_background": "light"
          }
        }
      ]
    },
    {
      "cell_type": "code",
      "source": [
        "fig, ax = plt.subplots(1, figsize=(12,6))\n",
        "plt.scatter(data['MONTH'], data['OBSERVATION COUNT'], alpha = 0.6)"
      ],
      "metadata": {
        "id": "ZIjbCJaZ_3sq",
        "colab": {
          "base_uri": "https://localhost:8080/",
          "height": 392
        },
        "outputId": "51c3b634-433c-4272-9906-6a29fce4637a"
      },
      "execution_count": null,
      "outputs": [
        {
          "output_type": "execute_result",
          "data": {
            "text/plain": [
              "<matplotlib.collections.PathCollection at 0x7f3633af6850>"
            ]
          },
          "metadata": {},
          "execution_count": 18
        },
        {
          "output_type": "display_data",
          "data": {
            "text/plain": [
              "<Figure size 864x432 with 1 Axes>"
            ],
            "image/png": "[encoded data removed]"
          },
          "metadata": {
            "needs_background": "light"
          }
        }
      ]
    },
    {
      "cell_type": "code",
      "source": [
        "fig, ax = plt.subplots(1, figsize=(12,6))\n",
        "plt.bar(data['MONTH'], data['OBSERVATION COUNT'])"
      ],
      "metadata": {
        "id": "31t12VmlDeeo",
        "colab": {
          "base_uri": "https://localhost:8080/",
          "height": 392
        },
        "outputId": "4da6dbd9-8b02-4a63-bc9e-8e6843b2cf29"
      },
      "execution_count": null,
      "outputs": [
        {
          "output_type": "execute_result",
          "data": {
            "text/plain": [
              "<BarContainer object of 61255 artists>"
            ]
          },
          "metadata": {},
          "execution_count": 19
        },
        {
          "output_type": "display_data",
          "data": {
            "text/plain": [
              "<Figure size 864x432 with 1 Axes>"
            ],
            "image/png": "[encoded data removed]"
          },
          "metadata": {
            "needs_background": "light"
          }
        }
      ]
    },
    {
      "cell_type": "code",
      "source": [
        "data['COUNTY'] = data['COUNTY'].astype(str)"
      ],
      "metadata": {
        "id": "yg9Q15J3DyeK"
      },
      "execution_count": null,
      "outputs": []
    },
    {
      "cell_type": "code",
      "source": [
        "df = pd.DataFrame(data.groupby('STATE')['OBSERVATION COUNT'].sum())"
      ],
      "metadata": {
        "id": "inpEpNhXFHEq"
      },
      "execution_count": null,
      "outputs": []
    },
    {
      "cell_type": "code",
      "source": [
        "df = df['OBSERVATION COUNT'].nlargest(n=10)"
      ],
      "metadata": {
        "id": "IUIAXr6MFCWq"
      },
      "execution_count": null,
      "outputs": []
    },
    {
      "cell_type": "code",
      "source": [
        "df = df.reset_index()"
      ],
      "metadata": {
        "id": "jyIT9pCsGeBv"
      },
      "execution_count": null,
      "outputs": []
    },
    {
      "cell_type": "code",
      "source": [
        "df"
      ],
      "metadata": {
        "id": "LGxxtuqcGi_P",
        "colab": {
          "base_uri": "https://localhost:8080/",
          "height": 363
        },
        "outputId": "6e96f606-2483-4e7e-db12-113c0faedb38"
      },
      "execution_count": null,
      "outputs": [
        {
          "output_type": "execute_result",
          "data": {
            "text/plain": [
              "          STATE  OBSERVATION COUNT\n",
              "0    California              17567\n",
              "1      Colorado              11265\n",
              "2       Montana              10275\n",
              "3          Utah               8072\n",
              "4        Oregon               5103\n",
              "5  Pennsylvania               4460\n",
              "6       Wyoming               4342\n",
              "7         Idaho               3607\n",
              "8       Arizona               3513\n",
              "9    Washington               2832"
            ],
            "text/html": [
              "\n",
              "  <div id=\"df-4f0f5960-5b9c-4304-9b67-5fe3fbd407a6\">\n",
              "    <div class=\"colab-df-container\">\n",
              "      <div>\n",
              "<style scoped>\n",
              "    .dataframe tbody tr th:only-of-type {\n",
              "        vertical-align: middle;\n",
              "    }\n",
              "\n",
              "    .dataframe tbody tr th {\n",
              "        vertical-align: top;\n",
              "    }\n",
              "\n",
              "    .dataframe thead th {\n",
              "        text-align: right;\n",
              "    }\n",
              "</style>\n",
              "<table border=\"1\" class=\"dataframe\">\n",
              "  <thead>\n",
              "    <tr style=\"text-align: right;\">\n",
              "      <th></th>\n",
              "      <th>STATE</th>\n",
              "      <th>OBSERVATION COUNT</th>\n",
              "    </tr>\n",
              "  </thead>\n",
              "  <tbody>\n",
              "    <tr>\n",
              "      <th>0</th>\n",
              "      <td>California</td>\n",
              "      <td>17567</td>\n",
              "    </tr>\n",
              "    <tr>\n",
              "      <th>1</th>\n",
              "      <td>Colorado</td>\n",
              "      <td>11265</td>\n",
              "    </tr>\n",
              "    <tr>\n",
              "      <th>2</th>\n",
              "      <td>Montana</td>\n",
              "      <td>10275</td>\n",
              "    </tr>\n",
              "    <tr>\n",
              "      <th>3</th>\n",
              "      <td>Utah</td>\n",
              "      <td>8072</td>\n",
              "    </tr>\n",
              "    <tr>\n",
              "      <th>4</th>\n",
              "      <td>Oregon</td>\n",
              "      <td>5103</td>\n",
              "    </tr>\n",
              "    <tr>\n",
              "      <th>5</th>\n",
              "      <td>Pennsylvania</td>\n",
              "      <td>4460</td>\n",
              "    </tr>\n",
              "    <tr>\n",
              "      <th>6</th>\n",
              "      <td>Wyoming</td>\n",
              "      <td>4342</td>\n",
              "    </tr>\n",
              "    <tr>\n",
              "      <th>7</th>\n",
              "      <td>Idaho</td>\n",
              "      <td>3607</td>\n",
              "    </tr>\n",
              "    <tr>\n",
              "      <th>8</th>\n",
              "      <td>Arizona</td>\n",
              "      <td>3513</td>\n",
              "    </tr>\n",
              "    <tr>\n",
              "      <th>9</th>\n",
              "      <td>Washington</td>\n",
              "      <td>2832</td>\n",
              "    </tr>\n",
              "  </tbody>\n",
              "</table>\n",
              "</div>\n",
              "      <button class=\"colab-df-convert\" onclick=\"convertToInteractive('df-4f0f5960-5b9c-4304-9b67-5fe3fbd407a6')\"\n",
              "              title=\"Convert this dataframe to an interactive table.\"\n",
              "              style=\"display:none;\">\n",
              "        \n",
              "  <svg xmlns=\"http://www.w3.org/2000/svg\" height=\"24px\"viewBox=\"0 0 24 24\"\n",
              "       width=\"24px\">\n",
              "    <path d=\"M0 0h24v24H0V0z\" fill=\"none\"/>\n",
              "    <path d=\"M18.56 5.44l.94 2.06.94-2.06 2.06-.94-2.06-.94-.94-2.06-.94 2.06-2.06.94zm-11 1L8.5 8.5l.94-2.06 2.06-.94-2.06-.94L8.5 2.5l-.94 2.06-2.06.94zm10 10l.94 2.06.94-2.06 2.06-.94-2.06-.94-.94-2.06-.94 2.06-2.06.94z\"/><path d=\"M17.41 7.96l-1.37-1.37c-.4-.4-.92-.59-1.43-.59-.52 0-1.04.2-1.43.59L10.3 9.45l-7.72 7.72c-.78.78-.78 2.05 0 2.83L4 21.41c.39.39.9.59 1.41.59.51 0 1.02-.2 1.41-.59l7.78-7.78 2.81-2.81c.8-.78.8-2.07 0-2.86zM5.41 20L4 18.59l7.72-7.72 1.47 1.35L5.41 20z\"/>\n",
              "  </svg>\n",
              "      </button>\n",
              "      \n",
              "  <style>\n",
              "    .colab-df-container {\n",
              "      display:flex;\n",
              "      flex-wrap:wrap;\n",
              "      gap: 12px;\n",
              "    }\n",
              "\n",
              "    .colab-df-convert {\n",
              "      background-color: #E8F0FE;\n",
              "      border: none;\n",
              "      border-radius: 50%;\n",
              "      cursor: pointer;\n",
              "      display: none;\n",
              "      fill: #1967D2;\n",
              "      height: 32px;\n",
              "      padding: 0 0 0 0;\n",
              "      width: 32px;\n",
              "    }\n",
              "\n",
              "    .colab-df-convert:hover {\n",
              "      background-color: #E2EBFA;\n",
              "      box-shadow: 0px 1px 2px rgba(60, 64, 67, 0.3), 0px 1px 3px 1px rgba(60, 64, 67, 0.15);\n",
              "      fill: #174EA6;\n",
              "    }\n",
              "\n",
              "    [theme=dark] .colab-df-convert {\n",
              "      background-color: #3B4455;\n",
              "      fill: #D2E3FC;\n",
              "    }\n",
              "\n",
              "    [theme=dark] .colab-df-convert:hover {\n",
              "      background-color: #434B5C;\n",
              "      box-shadow: 0px 1px 3px 1px rgba(0, 0, 0, 0.15);\n",
              "      filter: drop-shadow(0px 1px 2px rgba(0, 0, 0, 0.3));\n",
              "      fill: #FFFFFF;\n",
              "    }\n",
              "  </style>\n",
              "\n",
              "      <script>\n",
              "        const buttonEl =\n",
              "          document.querySelector('#df-4f0f5960-5b9c-4304-9b67-5fe3fbd407a6 button.colab-df-convert');\n",
              "        buttonEl.style.display =\n",
              "          google.colab.kernel.accessAllowed ? 'block' : 'none';\n",
              "\n",
              "        async function convertToInteractive(key) {\n",
              "          const element = document.querySelector('#df-4f0f5960-5b9c-4304-9b67-5fe3fbd407a6');\n",
              "          const dataTable =\n",
              "            await google.colab.kernel.invokeFunction('convertToInteractive',\n",
              "                                                     [key], {});\n",
              "          if (!dataTable) return;\n",
              "\n",
              "          const docLinkHtml = 'Like what you see? Visit the ' +\n",
              "            '<a target=\"_blank\" href=https://colab.research.google.com/notebooks/data_table.ipynb>data table notebook</a>'\n",
              "            + ' to learn more about interactive tables.';\n",
              "          element.innerHTML = '';\n",
              "          dataTable['output_type'] = 'display_data';\n",
              "          await google.colab.output.renderOutput(dataTable, element);\n",
              "          const docLink = document.createElement('div');\n",
              "          docLink.innerHTML = docLinkHtml;\n",
              "          element.appendChild(docLink);\n",
              "        }\n",
              "      </script>\n",
              "    </div>\n",
              "  </div>\n",
              "  "
            ]
          },
          "metadata": {},
          "execution_count": 42
        }
      ]
    },
    {
      "cell_type": "code",
      "source": [
        "import matplotlib.pyplot as plt\n",
        "fig, ax = plt.subplots(1, figsize=(12,6))\n",
        "plt.bar(df['STATE'], df['OBSERVATION COUNT'])"
      ],
      "metadata": {
        "id": "lU3tffDOFd3y",
        "colab": {
          "base_uri": "https://localhost:8080/",
          "height": 392
        },
        "outputId": "8781e811-7965-469c-96e6-d855e56eb4d6"
      },
      "execution_count": null,
      "outputs": [
        {
          "output_type": "execute_result",
          "data": {
            "text/plain": [
              "<BarContainer object of 10 artists>"
            ]
          },
          "metadata": {},
          "execution_count": 44
        },
        {
          "output_type": "display_data",
          "data": {
            "text/plain": [
              "<Figure size 864x432 with 1 Axes>"
            ],
            "image/png": "[encoded data removed]"
          },
          "metadata": {
            "needs_background": "light"
          }
        }
      ]
    },
    {
      "cell_type": "code",
      "source": [
        "data.columns"
      ],
      "metadata": {
        "id": "52AllIrrGh_Y",
        "colab": {
          "base_uri": "https://localhost:8080/"
        },
        "outputId": "3d65daf7-11b0-4b09-a520-9f8d64777330"
      },
      "execution_count": null,
      "outputs": [
        {
          "output_type": "execute_result",
          "data": {
            "text/plain": [
              "Index(['GLOBAL UNIQUE IDENTIFIER', 'LAST EDITED DATE', 'TAXONOMIC ORDER',\n",
              "       'CATEGORY', 'TAXON CONCEPT ID', 'COMMON NAME', 'SCIENTIFIC NAME',\n",
              "       'SUBSPECIES COMMON NAME', 'SUBSPECIES SCIENTIFIC NAME', 'EXOTIC CODE',\n",
              "       'OBSERVATION COUNT', 'BREEDING CODE', 'BREEDING CATEGORY',\n",
              "       'BEHAVIOR CODE', 'AGE/SEX', 'COUNTRY', 'COUNTRY CODE', 'STATE',\n",
              "       'STATE CODE', 'COUNTY', 'COUNTY CODE', 'IBA CODE', 'BCR CODE',\n",
              "       'USFWS CODE', 'ATLAS BLOCK', 'LOCALITY', 'LOCALITY ID', 'LOCALITY TYPE',\n",
              "       'LATITUDE', 'LONGITUDE', 'OBSERVATION DATE',\n",
              "       'TIME OBSERVATIONS STARTED', 'OBSERVER ID', 'SAMPLING EVENT IDENTIFIER',\n",
              "       'PROTOCOL TYPE', 'PROTOCOL CODE', 'PROJECT CODE', 'DURATION MINUTES',\n",
              "       'EFFORT DISTANCE KM', 'EFFORT AREA HA', 'NUMBER OBSERVERS',\n",
              "       'ALL SPECIES REPORTED', 'GROUP IDENTIFIER', 'HAS MEDIA', 'APPROVED',\n",
              "       'REVIEWED', 'REASON', 'TRIP COMMENTS', 'SPECIES COMMENTS', 'MONTH'],\n",
              "      dtype='object')"
            ]
          },
          "metadata": {},
          "execution_count": 26
        }
      ]
    },
    {
      "cell_type": "code",
      "source": [
        "data = data.drop(['GLOBAL UNIQUE IDENTIFIER', 'PROTOCOL TYPE', 'PROTOCOL CODE', 'PROJECT CODE', 'DURATION MINUTES', 'LAST EDITED DATE', 'TAXONOMIC ORDER', 'APPROVED',\n",
        "       'REVIEWED', 'REASON', 'TRIP COMMENTS', 'SPECIES COMMENTS'], axis=1)"
      ],
      "metadata": {
        "id": "0VLa252h4Hzs"
      },
      "execution_count": null,
      "outputs": []
    },
    {
      "cell_type": "code",
      "source": [
        "data.columns"
      ],
      "metadata": {
        "colab": {
          "base_uri": "https://localhost:8080/"
        },
        "id": "tKeSOWfoqKK5",
        "outputId": "55cb9682-0f6f-4ab2-e939-b690143885a2"
      },
      "execution_count": null,
      "outputs": [
        {
          "output_type": "execute_result",
          "data": {
            "text/plain": [
              "Index(['CATEGORY', 'TAXON CONCEPT ID', 'COMMON NAME', 'SCIENTIFIC NAME',\n",
              "       'SUBSPECIES COMMON NAME', 'SUBSPECIES SCIENTIFIC NAME', 'EXOTIC CODE',\n",
              "       'OBSERVATION COUNT', 'BREEDING CODE', 'BREEDING CATEGORY',\n",
              "       'BEHAVIOR CODE', 'AGE/SEX', 'COUNTRY', 'COUNTRY CODE', 'STATE',\n",
              "       'STATE CODE', 'COUNTY', 'COUNTY CODE', 'IBA CODE', 'BCR CODE',\n",
              "       'USFWS CODE', 'ATLAS BLOCK', 'LOCALITY', 'LOCALITY ID', 'LOCALITY TYPE',\n",
              "       'LATITUDE', 'LONGITUDE', 'OBSERVATION DATE',\n",
              "       'TIME OBSERVATIONS STARTED', 'OBSERVER ID', 'SAMPLING EVENT IDENTIFIER',\n",
              "       'EFFORT DISTANCE KM', 'EFFORT AREA HA', 'NUMBER OBSERVERS',\n",
              "       'ALL SPECIES REPORTED', 'GROUP IDENTIFIER', 'HAS MEDIA', 'MONTH'],\n",
              "      dtype='object')"
            ]
          },
          "metadata": {},
          "execution_count": 28
        }
      ]
    },
    {
      "cell_type": "code",
      "source": [
        "data = data.drop(['IBA CODE', 'BCR CODE', 'USFWS CODE', 'ATLAS BLOCK', 'TIME OBSERVATIONS STARTED', 'OBSERVER ID', 'SAMPLING EVENT IDENTIFIER', 'NUMBER OBSERVERS', 'ALL SPECIES REPORTED', 'GROUP IDENTIFIER', 'HAS MEDIA', 'EFFORT DISTANCE KM', 'EFFORT AREA HA', 'BEHAVIOR CODE'], axis=1)"
      ],
      "metadata": {
        "id": "2TW75mNXqN4h"
      },
      "execution_count": null,
      "outputs": []
    },
    {
      "cell_type": "code",
      "source": [
        "data.columns"
      ],
      "metadata": {
        "colab": {
          "base_uri": "https://localhost:8080/"
        },
        "id": "KaN1S-q7rGdb",
        "outputId": "67c144e1-f3e1-49cc-c957-e81338cfdb5c"
      },
      "execution_count": null,
      "outputs": [
        {
          "output_type": "execute_result",
          "data": {
            "text/plain": [
              "Index(['CATEGORY', 'TAXON CONCEPT ID', 'COMMON NAME', 'SCIENTIFIC NAME',\n",
              "       'SUBSPECIES COMMON NAME', 'SUBSPECIES SCIENTIFIC NAME', 'EXOTIC CODE',\n",
              "       'OBSERVATION COUNT', 'BREEDING CODE', 'BREEDING CATEGORY', 'AGE/SEX',\n",
              "       'COUNTRY', 'COUNTRY CODE', 'STATE', 'STATE CODE', 'COUNTY',\n",
              "       'COUNTY CODE', 'LOCALITY', 'LOCALITY ID', 'LOCALITY TYPE', 'LATITUDE',\n",
              "       'LONGITUDE', 'OBSERVATION DATE', 'MONTH'],\n",
              "      dtype='object')"
            ]
          },
          "metadata": {},
          "execution_count": 30
        }
      ]
    },
    {
      "cell_type": "code",
      "source": [
        "data['date'] = pd.to_datetime(data['OBSERVATION DATE']) - pd.to_timedelta(7, unit='d')"
      ],
      "metadata": {
        "id": "ijAHRH3arHdx"
      },
      "execution_count": null,
      "outputs": []
    },
    {
      "cell_type": "code",
      "source": [
        "weekly_data = pd.DataFrame(data.groupby([pd.Grouper(key='date', freq='W')])['OBSERVATION COUNT'].sum())"
      ],
      "metadata": {
        "id": "LwefYo6StAgS"
      },
      "execution_count": null,
      "outputs": []
    },
    {
      "cell_type": "code",
      "source": [
        "weekly_data = weekly_data.reset_index()"
      ],
      "metadata": {
        "id": "TtIxiOd4tOoC"
      },
      "execution_count": null,
      "outputs": []
    },
    {
      "cell_type": "code",
      "source": [
        "weekly_data.to_csv('/content/gdrive/My Drive/project/golden_eagle_weekly.csv')"
      ],
      "metadata": {
        "id": "miwIQtrcy83T"
      },
      "execution_count": null,
      "outputs": []
    },
    {
      "cell_type": "code",
      "source": [
        "data.to_csv('/content/gdrive/My Drive/project/golden_eagle_filtered_data.csv')"
      ],
      "metadata": {
        "id": "G8TbiulOzZAQ"
      },
      "execution_count": null,
      "outputs": []
    },
    {
      "cell_type": "code",
      "source": [
        "data.columns"
      ],
      "metadata": {
        "colab": {
          "base_uri": "https://localhost:8080/"
        },
        "id": "ythK4hyT24vb",
        "outputId": "b84f8bd2-9e86-4ea0-f340-ededfbd65590"
      },
      "execution_count": null,
      "outputs": [
        {
          "output_type": "execute_result",
          "data": {
            "text/plain": [
              "Index(['CATEGORY', 'TAXON CONCEPT ID', 'COMMON NAME', 'SCIENTIFIC NAME',\n",
              "       'SUBSPECIES COMMON NAME', 'SUBSPECIES SCIENTIFIC NAME', 'EXOTIC CODE',\n",
              "       'OBSERVATION COUNT', 'BREEDING CODE', 'BREEDING CATEGORY', 'AGE/SEX',\n",
              "       'COUNTRY', 'COUNTRY CODE', 'STATE', 'STATE CODE', 'COUNTY',\n",
              "       'COUNTY CODE', 'LOCALITY', 'LOCALITY ID', 'LOCALITY TYPE', 'LATITUDE',\n",
              "       'LONGITUDE', 'OBSERVATION DATE', 'MONTH', 'date'],\n",
              "      dtype='object')"
            ]
          },
          "metadata": {},
          "execution_count": 36
        }
      ]
    },
    {
      "cell_type": "code",
      "source": [
        "data['AGE/SEX'].value_counts()"
      ],
      "metadata": {
        "colab": {
          "base_uri": "https://localhost:8080/"
        },
        "id": "IULGMBK6c8ST",
        "outputId": "9e863622-95d5-414a-9080-06f689ca11f6"
      },
      "execution_count": null,
      "outputs": [
        {
          "output_type": "execute_result",
          "data": {
            "text/plain": [
              "Unknown Sex, Adult (1)                                                                    763\n",
              "Unknown Sex, Immature (1)                                                                 596\n",
              "Unknown Sex, Juvenile (1)                                                                 171\n",
              "Unknown Sex, Adult (2)                                                                    159\n",
              "Unknown Sex, Immature (1); Unknown Sex, Adult (1)                                          63\n",
              "                                                                                         ... \n",
              "Female, Juvenile (1)                                                                        1\n",
              "Unknown Sex, Immature (0); Unknown Sex, Juvenile (1)                                        1\n",
              "Female, Adult (1); Male, Adult (1); Unknown Sex, Juvenile (1)                               1\n",
              "Female, Adult (1); Male, Adult (1); Unknown Sex, Immature (1)                               1\n",
              "Male, Adult (2); Female, Adult (2); Unknown Sex and Age (1); Unknown Sex, Juvenile (2)      1\n",
              "Name: AGE/SEX, Length: 134, dtype: int64"
            ]
          },
          "metadata": {},
          "execution_count": 38
        }
      ]
    },
    {
      "cell_type": "code",
      "source": [
        "df1 = data.groupby('AGE/SEX')['OBSERVATION DATE']"
      ],
      "metadata": {
        "id": "gvrKqylhdAch"
      },
      "execution_count": null,
      "outputs": []
    },
    {
      "cell_type": "code",
      "source": [
        "df1"
      ],
      "metadata": {
        "colab": {
          "base_uri": "https://localhost:8080/"
        },
        "id": "Fd0nrJX0mUps",
        "outputId": "ca5f380c-dcf9-426c-ecfc-706b954d4d29"
      },
      "execution_count": null,
      "outputs": [
        {
          "output_type": "execute_result",
          "data": {
            "text/plain": [
              "<pandas.core.groupby.generic.SeriesGroupBy object at 0x7f363390de50>"
            ]
          },
          "metadata": {},
          "execution_count": 47
        }
      ]
    },
    {
      "cell_type": "code",
      "source": [],
      "metadata": {
        "id": "bvoCmXCYmXn5"
      },
      "execution_count": null,
      "outputs": []
    }
  ]
}